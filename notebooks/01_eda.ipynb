{
 "cells": [
  {
   "cell_type": "markdown",
   "id": "d1b60254",
   "metadata": {},
   "source": [
    "# 1. Overview  ─ shape, missing-value heat-map\n",
    "# 2. Column-by-column   (each section = EDA plot + markdown takeaway)\n",
    "   2.1 BUDGET\n",
    "       • hist / KDE\n",
    "       • skew number\n",
    "       • markdown: “Right-skewed → median imputation”\n",
    "   2.2 RUNTIME\n",
    "       • box-plot, etc.\n",
    "       …\n",
    "# 3. Relationships & Correlation\n",
    "   3.1 Budget vs Revenue (scatter + LOWESS)\n",
    "   3.2 Vote_Count vs Popularity\n",
    "   3.3 Genre vs Revenue (violin or bar)\n",
    "   3.4 Correlation heat-map of numeric features\n",
    "   3.5 Pair-plot (optional, if not too heavy)\n",
    "# 4. EDA Conclusions  (bullet list of variables to model)"
   ]
  },
  {
   "cell_type": "code",
   "execution_count": null,
   "id": "71381661",
   "metadata": {},
   "outputs": [],
   "source": [
    "# Packages required for exploratory data analysis: pandas, numpy, and matplotlib\n",
    "\n",
    "# Data manipulation\n",
    "import pandas as pd\n",
    "import numpy as np\n",
    "from scipy.stats import skew\n",
    "# Visualization\n",
    "import matplotlib.pyplot as plt\n",
    "from matplotlib.ticker import FuncFormatter\n",
    "import matplotlib.ticker as ticker"
   ]
  },
  {
   "cell_type": "code",
   "execution_count": null,
   "id": "37670129",
   "metadata": {},
   "outputs": [],
   "source": [
    "# READ IN CSV FILES AND MERGE\n",
    "movie_info = pd.read_csv('../data/raw/movie_info.csv', index_col=0)\n",
    "critic_reviews = pd.read_csv('../data/raw/CriticReviews_2018-2020.csv', index_col=0)\n",
    "# Merge the two dataframes on the 'review_object_title' column\n",
    "merged_df = pd.merge(movie_info, critic_reviews, on='review_object_title', how='outer', suffixes=('_movie', '_review'))\n",
    "\n",
    "merged_df.head(100)"
   ]
  },
  {
   "cell_type": "code",
   "execution_count": null,
   "id": "712e2415",
   "metadata": {},
   "outputs": [],
   "source": [
    "# RENAME MovieID and MovieTitle\n",
    "merged_df = merged_df.rename(columns={'Unnamed: 0': 'Movie_ID', 'review_object_title': 'Movie_Title'})\n",
    "\n",
    "# MOVIE ID\n",
    "# Reset the MovieID column to start at 1 for each unique MovieTitle\n",
    "merged_df['Movie_ID'] = merged_df.groupby('Movie_Title').ngroup() + 1\n",
    "\n",
    "# drop columns because we made our own index called MovieID\n",
    "merged_df.drop(['tmdbid'], axis=1, inplace=True)"
   ]
  },
  {
   "cell_type": "code",
   "execution_count": null,
   "id": "77d2ce29",
   "metadata": {},
   "outputs": [],
   "source": [
    "# create a column indicating how much of a row is missing\n",
    "# Create a boolean mask indicating which cells contain Not available, NaN, or the string 'Not available'\n",
    "na_mask = merged_df.isna() | merged_df.isin(['Not available'])\n",
    "\n",
    "# Count the number of cells in each row that contain Not available, NaN, or 'Not available'\n",
    "na_counts = na_mask.sum(axis=1)\n",
    "\n",
    "# Calculate the percentage of cells in each row that contain Not available, NaN, or 'Not available'\n",
    "na_percent = na_counts / len(merged_df.columns) * 100\n",
    "\n",
    "# Add the new column to the DataFrame\n",
    "merged_df['NA_Percent'] = na_percent\n",
    "#merged_df"
   ]
  },
  {
   "cell_type": "code",
   "execution_count": null,
   "id": "117748b2",
   "metadata": {},
   "outputs": [],
   "source": [
    "# Sort the DataFrame by NA_Percent in descending order\n",
    "merged_df.sort_values('NA_Percent', ascending=False)"
   ]
  },
  {
   "cell_type": "code",
   "execution_count": null,
   "id": "e0c0ea20",
   "metadata": {},
   "outputs": [],
   "source": [
    "# remove rows that have more than 50% Na values. These rows don't have enough information to use useful in a sentiment analysis. \n",
    "#Also, Not available of these columns contain the important review or reviewer rating necessary for the analysis. \n",
    "merged_df = merged_df[merged_df['NA_Percent'] <= 50]\n",
    "merged_df\n",
    "#319 rows have been removed."
   ]
  },
  {
   "cell_type": "code",
   "execution_count": null,
   "id": "d1955a47",
   "metadata": {},
   "outputs": [],
   "source": [
    "# drop the NA_Percent column\n",
    "merged_df = merged_df.drop('NA_Percent', axis=1)\n",
    "#merged_df\n",
    "\n",
    "# CHECK FOR NAs in columns \n",
    "# Calculate the percentage of NaN values for each column\n",
    "col_na_percentage = merged_df.isna().sum() / merged_df.shape[0] * 100\n",
    "# Add a new row at the top of the DataFrame with the column NaN percentages\n",
    "merged_df.loc[-1] = col_na_percentage.round(2)\n",
    "merged_df.index = merged_df.index + 1\n",
    "merged_df = merged_df.sort_index()\n",
    "merged_df.head(2)"
   ]
  },
  {
   "cell_type": "code",
   "execution_count": null,
   "id": "0d1193a9",
   "metadata": {},
   "outputs": [],
   "source": [
    "# EDA — Budget\n",
    "\n",
    "# % missing\n",
    "budget_na_pct = merged_df['budget'].isna().mean() * 100\n",
    "print(f\"Budget NA %: {budget_na_pct:.2f}%\")\n",
    "\n",
    "# skew check\n",
    "budget_skew = skew(merged_df['budget'].dropna())\n",
    "print(f\"Skew of budget: {budget_skew:.2f}\")\n",
    "\n",
    "# EDA Conclusion:\n",
    "# Skew = 2.7 right-skewed - use median imputation"
   ]
  },
  {
   "cell_type": "code",
   "execution_count": null,
   "id": "cb968860",
   "metadata": {},
   "outputs": [],
   "source": [
    "# EDA – Runtime\n",
    "\n",
    "# % missing\n",
    "runtime_na_pct = merged_df['runtime'].isna().mean() * 100\n",
    "print(f\"Runtime NA %: {runtime_na_pct:.2f}%\")\n",
    "\n",
    "# skew check\n",
    "runtime_skew = skew(merged_df['runtime'].dropna())\n",
    "print(f\"Skew of runtime: {runtime_skew:.2f}\")\n",
    "\n",
    "# EDA conclusion:\n",
    "# Skew = 3.45 right-skewed - use median imputation"
   ]
  },
  {
   "cell_type": "code",
   "execution_count": null,
   "id": "d4bb1505",
   "metadata": {},
   "outputs": [],
   "source": [
    "# EDA – Original Language\n",
    "\n",
    "# % missing\n",
    "lang_na_pct = merged_df['original_language'].isna().mean() * 100\n",
    "print(f\"Original Language NA %: {lang_na_pct:.2f}%\")\n",
    "\n",
    "# EDA conclusion:\n",
    "# ~8% missing - fill with 'Not available'\n",
    "# values are abbreviated - map to full language names"
   ]
  },
  {
   "cell_type": "code",
   "execution_count": null,
   "id": "ac9b59c5",
   "metadata": {},
   "outputs": [],
   "source": [
    "# EDA – Revenue\n",
    "\n",
    "# % missing\n",
    "revenue_na_pct = merged_df['tmdb_revenue'].isna().mean() * 100\n",
    "print(f\"Revenue NA %: {revenue_na_pct:.2f}%\")\n",
    "\n",
    "# skew check\n",
    "revenue_skew = skew(merged_df['tmdb_revenue'].dropna())\n",
    "print(f\"Skew of Revenue: {revenue_skew:.2f}\")\n",
    "\n",
    "# EDA conclusion:\n",
    "# ~8% missing or zero values\n",
    "# highly right-skewed (skew > 4.0) - use median imputation"
   ]
  },
  {
   "cell_type": "code",
   "execution_count": null,
   "id": "eaebb7a6",
   "metadata": {},
   "outputs": [],
   "source": [
    "# EDA – Release_Date\n",
    "\n",
    "# % missing\n",
    "release_na_pct = merged_df['release_date'].isna().mean() * 100\n",
    "print(f\"Release_Date NA %: {release_na_pct:.2f}%\")\n",
    "\n",
    "# EDA conclusion:\n",
    "# ~8% missing values\n",
    "# impute with 'Not available'"
   ]
  },
  {
   "cell_type": "code",
   "execution_count": null,
   "id": "cf968382",
   "metadata": {},
   "outputs": [],
   "source": [
    "# EDA – Popularity\n",
    "\n",
    "# % missing\n",
    "popularity_na_pct = merged_df['tmdb_popularity'].isna().mean() * 100\n",
    "print(f\"Popularity NA %: {popularity_na_pct:.2f}%\")\n",
    "\n",
    "# distribution shape\n",
    "popularity_skew = skew(merged_df['tmdb_popularity'].dropna())\n",
    "print(f\"Skewness: {popularity_skew:.2f}\")\n",
    "\n",
    "# EDA conclusion:\n",
    "# ~8% missing values\n",
    "# heavily skewed (~17) - use median imputation"
   ]
  },
  {
   "cell_type": "code",
   "execution_count": null,
   "id": "99561775",
   "metadata": {},
   "outputs": [],
   "source": [
    "# EDA – Vote_Average\n",
    "\n",
    "# % missing\n",
    "vote_avg_na_pct = merged_df['tmdb_vote_avg'].isna().mean() * 100\n",
    "print(f\"Vote_Average NA %: {vote_avg_na_pct:.2f}%\")\n",
    "\n",
    "# distribution shape\n",
    "vote_avg_skew = skew(merged_df['tmdb_vote_avg'].dropna())\n",
    "print(f\"Skewness: {vote_avg_skew:.2f}\")\n",
    "\n",
    "# EDA conclusion:\n",
    "# ~8% missing values\n",
    "# left-skewed (~ -2.79) - use median imputation"
   ]
  },
  {
   "cell_type": "code",
   "execution_count": null,
   "id": "7d8dfcaa",
   "metadata": {},
   "outputs": [],
   "source": [
    "df['Vote_Average'].plot(kind='density')\n",
    "plt.title('Distribution of Vote Average')\n",
    "plt.xlabel('Vote Average')\n",
    "plt.show()"
   ]
  },
  {
   "cell_type": "code",
   "execution_count": null,
   "id": "2b86638a",
   "metadata": {},
   "outputs": [],
   "source": [
    "# EDA – Vote_Count\n",
    "\n",
    "# % missing\n",
    "vote_count_na_pct = merged_df['tmdb_vote_count'].isna().mean() * 100\n",
    "print(f\"Vote_Count NA %: {vote_count_na_pct:.2f}%\")\n",
    "\n",
    "# distribution shape\n",
    "vote_count_skew = skew(merged_df['tmdb_vote_count'].dropna())\n",
    "print(f\"Skewness: {vote_count_skew:.2f}\")\n",
    "\n",
    "# EDA conclusion:\n",
    "# ~8% missing values\n",
    "# right-skewed (~3.08) - use median imputation"
   ]
  },
  {
   "cell_type": "code",
   "execution_count": null,
   "id": "3899ad34",
   "metadata": {},
   "outputs": [],
   "source": [
    "plt.hist(df['Vote_Count'], bins=50)\n",
    "plt.title('Distribution of Vote Count')\n",
    "plt.xlabel('Vote Count')\n",
    "plt.ylabel('Frequency')\n",
    "plt.show()"
   ]
  },
  {
   "cell_type": "code",
   "execution_count": null,
   "id": "95b9dd7f",
   "metadata": {},
   "outputs": [],
   "source": [
    "# EDA - Review_ID\n",
    "\n",
    "# 0% missing\n",
    "merged_df['review_id'].isna().sum()\n"
   ]
  },
  {
   "cell_type": "code",
   "execution_count": null,
   "id": "6e1e6873",
   "metadata": {},
   "outputs": [],
   "source": [
    "# EDA - Critic_ID\n",
    "\n",
    "# 0% missing\n",
    "merged_df['critic_id'].isna().sum()"
   ]
  },
  {
   "cell_type": "code",
   "execution_count": null,
   "id": "41ebc56a",
   "metadata": {},
   "outputs": [],
   "source": [
    "# EDA - Created_Date\n",
    "\n",
    "# 0% missing\n",
    "merged_df['created_date'].isna().sum()"
   ]
  },
  {
   "cell_type": "code",
   "execution_count": null,
   "id": "ee972570",
   "metadata": {},
   "outputs": [],
   "source": [
    "# EDA - Pub_Date\n",
    "\n",
    "# 0% missing\n",
    "merged_df['pub_date'].isna().sum()"
   ]
  },
  {
   "cell_type": "code",
   "execution_count": null,
   "id": "7d9c60cd",
   "metadata": {},
   "outputs": [],
   "source": [
    "# CONTENT\n",
    "# 0.01% NA\n",
    "merged_df['content'].isna().mean()\n",
    "merged_df['content'].head(100)"
   ]
  },
  {
   "cell_type": "code",
   "execution_count": null,
   "id": "1652353d",
   "metadata": {},
   "outputs": [],
   "source": [
    "# PUBLISHER\n",
    "# 0% NA\n",
    "merged_df['publisher'].isna().mean()\n",
    "merged_df['publisher'].head(100)"
   ]
  },
  {
   "cell_type": "code",
   "execution_count": null,
   "id": "2af259ba",
   "metadata": {},
   "outputs": [],
   "source": [
    "# REVIEWER RATING ROTTEN\n",
    "# 0% NA\n",
    "# all values are TRUE → drop\n",
    "merged_df['reviewer_rating_rotten'].value_counts()"
   ]
  },
  {
   "cell_type": "code",
   "execution_count": null,
   "id": "54ab2096",
   "metadata": {},
   "outputs": [],
   "source": [
    "# REVIEWER RATING ACTUAL\n",
    "# preview raw values and unique patterns\n",
    "merged_df['reviewer_rating_actual'].head(100)\n",
    "merged_df['reviewer_rating_actual'].unique()[:25]"
   ]
  },
  {
   "cell_type": "code",
   "execution_count": null,
   "id": "30b40f41",
   "metadata": {},
   "outputs": [],
   "source": [
    "# REVIEW SRC URL, REVIEW OBJECT TYPE, REVIEW OBJECT HREF\n",
    "# 0% NA\n",
    "# inspect these columns before deciding to drop\n",
    "merged_df[['review_src_url', 'review_object_type', 'review_object_href']].head(100)"
   ]
  },
  {
   "cell_type": "code",
   "execution_count": null,
   "id": "4c91d8be",
   "metadata": {},
   "outputs": [],
   "source": [
    "# PUBLICATION\n",
    "# 0% NA\n",
    "# inspect values before converting\n",
    "merged_df['publication'].head(100)"
   ]
  },
  {
   "cell_type": "code",
   "execution_count": null,
   "id": "def25c22",
   "metadata": {},
   "outputs": [],
   "source": [
    "# REVIEW OBJECT YEAR\n",
    "# 0% NA\n",
    "# inspect values before converting\n",
    "merged_df['review_object_year'].head(100)"
   ]
  },
  {
   "cell_type": "code",
   "execution_count": null,
   "id": "2e1a6891",
   "metadata": {},
   "outputs": [],
   "source": [
    "# CRITIC NAME\n",
    "# 0% NA\n",
    "# inspect values before converting\n",
    "merged_df['critic_name'].head(100)"
   ]
  },
  {
   "cell_type": "code",
   "execution_count": null,
   "id": "24429272",
   "metadata": {},
   "outputs": [],
   "source": [
    "# ROI\n",
    "# preview Budget and Revenue before calculating ROI\n",
    "merged_df[['Budget', 'Revenue']].describe()"
   ]
  },
  {
   "cell_type": "code",
   "execution_count": null,
   "id": "b6045b6b",
   "metadata": {},
   "outputs": [],
   "source": [
    "# MONTH\n",
    "# convert Release_Date to datetime\n",
    "merged_df['Release_Date'] = pd.to_datetime(merged_df['Release_Date'], errors='coerce')\n",
    "# preview converted dates\n",
    "merged_df['Release_Date'].head(100)"
   ]
  },
  {
   "cell_type": "code",
   "execution_count": null,
   "id": "3b2db484",
   "metadata": {},
   "outputs": [],
   "source": [
    "# add markdown section explaining this part now exploring relationships between variables"
   ]
  },
  {
   "cell_type": "code",
   "execution_count": null,
   "id": "2fbc1c3e",
   "metadata": {},
   "outputs": [],
   "source": [
    "# add code to bring in the cleaned data output from feature-engineering.ipynb"
   ]
  },
  {
   "cell_type": "code",
   "execution_count": null,
   "id": "6b101e8b",
   "metadata": {},
   "outputs": [],
   "source": [
    "# Create a histogram of the 'Revenue' column\n",
    "fig, ax = plt.subplots(figsize=(8,6))\n",
    "ax.hist(df['Revenue'], bins=20, edgecolor='black')\n",
    "\n",
    "# Customize x-axis labels\n",
    "ax.set_xlabel('Revenue (in billions)')\n",
    "ax.set_ylabel('Frequency')\n",
    "ax.xaxis.set_major_formatter(ticker.FuncFormatter(lambda x, pos: f'{x/1e9:g}'))\n",
    "ax.set_xlim(0, 3e9)\n",
    "\n",
    "plt.title('Histogram of Revenue')\n",
    "plt.show()"
   ]
  },
  {
   "cell_type": "code",
   "execution_count": null,
   "id": "54449272",
   "metadata": {},
   "outputs": [],
   "source": [
    "df['Revenue'].plot(kind='box')\n",
    "plt.ylabel('Revenue (in millions)')\n",
    "plt.title('Boxplot of Revenue')\n",
    "plt.show()"
   ]
  },
  {
   "cell_type": "code",
   "execution_count": null,
   "id": "d4871716",
   "metadata": {},
   "outputs": [],
   "source": [
    "x = df['Budget']\n",
    "y = df['Revenue']\n",
    "\n",
    "plt.scatter(x, y, alpha=0.5)\n",
    "plt.title('Revenue vs. Budget')\n",
    "plt.xlabel('Budget (in billions)')\n",
    "plt.ylabel('Revenue (in billions)')\n",
    "plt.show()"
   ]
  },
  {
   "cell_type": "code",
   "execution_count": null,
   "id": "eca2e2b1",
   "metadata": {},
   "outputs": [],
   "source": [
    "#impute \n",
    "median_runtime = df['Runtime'].median()\n",
    "df.loc[df['Runtime'] == 0, 'Runtime'] = median_runtime\n",
    "df.loc[df['Runtime'] > 200, 'Runtime'] = median_runtime"
   ]
  },
  {
   "cell_type": "code",
   "execution_count": null,
   "id": "b1be662c",
   "metadata": {},
   "outputs": [],
   "source": [
    "x = df['Runtime']\n",
    "y = df['Revenue']\n",
    "\n",
    "plt.scatter(x, y, alpha=0.5)\n",
    "plt.title('Revenue vs. Runtime')\n",
    "plt.xlabel('Runtime')\n",
    "plt.ylabel('Revenue in Billions')\n",
    "plt.show()"
   ]
  },
  {
   "cell_type": "code",
   "execution_count": null,
   "id": "4e38d7ee",
   "metadata": {},
   "outputs": [],
   "source": [
    "x = df['Vote_Average']\n",
    "y = df['Revenue']\n",
    "\n",
    "plt.scatter(x, y, alpha=0.5)\n",
    "plt.title('Revenue vs. Vote_Average')\n",
    "plt.xlabel('Vote_Average')\n",
    "plt.ylabel('Revenue in Billions')\n",
    "plt.show()"
   ]
  },
  {
   "cell_type": "code",
   "execution_count": null,
   "id": "2723c59f",
   "metadata": {},
   "outputs": [],
   "source": [
    "x = df['Vote_Count']\n",
    "y = df['Revenue']\n",
    "\n",
    "plt.scatter(x, y, alpha=0.5)\n",
    "plt.title('Revenue vs. Vote_Count')\n",
    "plt.xlabel('Vote_Count')\n",
    "plt.ylabel('Revenue in Billions')\n",
    "plt.show()"
   ]
  },
  {
   "cell_type": "code",
   "execution_count": null,
   "id": "a28eb854",
   "metadata": {},
   "outputs": [],
   "source": [
    "monthly_revenue = df.groupby('Month')['Revenue'].mean()\n",
    "\n",
    "# Create a new DataFrame with the monthly labels and average revenues\n",
    "monthlyrevenue = pd.DataFrame({\n",
    "    'Month': monthly_revenue.index,\n",
    "    'Average Revenue': monthly_revenue.values\n",
    "})"
   ]
  },
  {
   "cell_type": "code",
   "execution_count": null,
   "id": "a4369f5c",
   "metadata": {},
   "outputs": [],
   "source": [
    "# Define default blue color instead of the green color map\n",
    "colors = 'C0'  # 'C0' is the default blue color in Matplotlib\n",
    "\n",
    "# Create an ordered categorical data type for the 'Month' column\n",
    "month_order = ['January', 'February', 'March', 'April', 'May', 'June', 'July',\n",
    "               'August', 'September', 'October', 'November', 'December']\n",
    "cat_dtype = pd.api.types.CategoricalDtype(categories=month_order, ordered=True)\n",
    "monthlyrevenue['Month'] = monthlyrevenue['Month'].astype(cat_dtype)\n",
    "\n",
    "# Sort the dataframe by the 'Month' column\n",
    "monthlyrevenue = monthlyrevenue.sort_values('Month')\n",
    "\n",
    "# Create a bar plot with monthly revenue and color the bars by revenue\n",
    "plt.bar(monthlyrevenue['Month'], monthlyrevenue['Average Revenue'], color=colors)\n",
    "\n",
    "# Customize the plot\n",
    "plt.xlabel('Month')\n",
    "plt.ylabel('Average Revenue ($)')\n",
    "plt.title('Average Revenue by Month')\n",
    "plt.xticks(rotation=45)\n",
    "\n",
    "# Set the y-axis tick labels\n",
    "tick_labels = ['${:,.0f}'.format(x) for x in plt.yticks()[0]]\n",
    "plt.yticks(plt.yticks()[0], tick_labels)\n",
    "\n",
    "# Display the plot\n",
    "plt.show()"
   ]
  },
  {
   "cell_type": "code",
   "execution_count": null,
   "id": "e3117ee2",
   "metadata": {},
   "outputs": [],
   "source": [
    "genre_revenue = df.groupby('Genre_1')['Revenue'].mean().reset_index()\n",
    "\n",
    "# Create a bar plot with genre_1 and revenue\n",
    "plt.bar(genre_revenue['Genre_1'], genre_revenue['Revenue'])\n",
    "# Customize the plot\n",
    "plt.xlabel('Genre')\n",
    "plt.ylabel('Average Revenue (in Hundred Millions)')\n",
    "plt.title('Average Revenue by Genre')\n",
    "plt.xticks(rotation=45, ha='right')\n",
    "\n",
    "# Display the plot\n",
    "plt.show()"
   ]
  },
  {
   "cell_type": "code",
   "execution_count": null,
   "id": "9abc037d",
   "metadata": {},
   "outputs": [],
   "source": [
    "df['Vote_Average'].plot(kind='density')\n",
    "plt.title('Distribution of Vote Average')\n",
    "plt.xlabel('Vote Average')\n",
    "plt.show()"
   ]
  },
  {
   "cell_type": "code",
   "execution_count": null,
   "id": "be0395be",
   "metadata": {},
   "outputs": [],
   "source": [
    "x = df['Runtime']\n",
    "y = df['Vote_Average']\n",
    "\n",
    "plt.scatter(x, y, alpha=0.5)\n",
    "plt.title('Vote Average vs. Runtime')\n",
    "plt.xlabel('Runtime')\n",
    "plt.ylabel('Vote Average')\n",
    "plt.show()"
   ]
  },
  {
   "cell_type": "code",
   "execution_count": null,
   "id": "9beea6f1",
   "metadata": {},
   "outputs": [],
   "source": [
    "x = df['Vote_Average']\n",
    "y = df['Revenue']\n",
    "\n",
    "plt.scatter(x, y, alpha=0.5)\n",
    "plt.title('Revenue vs. Vote Average')\n",
    "plt.xlabel('Vote_Average')\n",
    "plt.ylabel('Revenue')\n",
    "plt.show()"
   ]
  },
  {
   "cell_type": "code",
   "execution_count": null,
   "id": "fc170494",
   "metadata": {},
   "outputs": [],
   "source": [
    "x = df['Vote_Average']\n",
    "y = df['Vote_Count']\n",
    "\n",
    "plt.scatter(x, y, alpha=0.5)\n",
    "plt.title('Vote Count vs. Vote Average')\n",
    "plt.xlabel('Vote Average')\n",
    "plt.ylabel('Vote Count')\n",
    "plt.show()"
   ]
  },
  {
   "cell_type": "code",
   "execution_count": null,
   "id": "eed11a43",
   "metadata": {},
   "outputs": [],
   "source": [
    "x = df['Vote_Average']\n",
    "y = df['Reviewer_Rating']\n",
    "\n",
    "plt.scatter(x, y, alpha=0.5)\n",
    "plt.title('Reviewer Rating vs. Vote Average')\n",
    "plt.xlabel('Vote Average')\n",
    "plt.ylabel('Reviewer Rating')\n",
    "plt.show()\n"
   ]
  },
  {
   "cell_type": "code",
   "execution_count": null,
   "id": "cbb40743",
   "metadata": {},
   "outputs": [],
   "source": [
    "df_filtered = df[df['Tomato_Meter'] >= 0]\n",
    "# create the scatter plot using the filtered dataframe\n",
    "x = df_filtered['Vote_Average']\n",
    "y = df_filtered['Tomato_Meter']\n",
    "\n",
    "plt.scatter(x, y, alpha=0.5)\n",
    "plt.title('Tomato Meter vs. Vote Average')\n",
    "plt.xlabel('Tomato_Meter')\n",
    "plt.ylabel('Vote Average')\n",
    "plt.show()"
   ]
  },
  {
   "cell_type": "code",
   "execution_count": null,
   "id": "2135325a",
   "metadata": {},
   "outputs": [],
   "source": [
    "# Group the data by month and calculate the mean of the 'Vote Average' column\n",
    "month_vote_avg = df.groupby('Month')['Vote_Average'].mean().reset_index()\n",
    "plt.figure(figsize=(10, 5))\n",
    "# Create a bar chart of vote average by month\n",
    "plt.bar(month_vote_avg['Month'], month_vote_avg['Vote_Average'])\n",
    "# Add data labels to the bars\n",
    "for i, v in enumerate(month_vote_avg['Vote_Average']):\n",
    "    plt.text(i, v, '{:.2f}'.format(v), ha='center', va='bottom')\n",
    "# Customize the plot\n",
    "plt.xlabel('Month')\n",
    "plt.ylabel('Vote Average')\n",
    "plt.title('Vote Average by Month')\n",
    "plt.xticks(rotation=45)\n",
    "\n",
    "# Display the plot\n",
    "plt.show()"
   ]
  },
  {
   "cell_type": "code",
   "execution_count": null,
   "id": "ea29f6f8",
   "metadata": {},
   "outputs": [],
   "source": [
    "# Group the data by genre and calculate the mean of the 'Vote Average' column\n",
    "genre_vote_avg = df.groupby('Genre_1')['Vote_Average'].mean().reset_index()\n",
    "plt.figure(figsize=(10, 5))\n",
    "# Create a bar chart of vote average by genre\n",
    "plt.bar(genre_vote_avg['Genre_1'], genre_vote_avg['Vote_Average'])\n",
    "\n",
    "# Add labels to the bars\n",
    "for i, v in enumerate(genre_vote_avg['Vote_Average']):\n",
    "    plt.text(i, v, '{:.2f}'.format(v), ha='center', va='bottom')\n",
    "\n",
    "# Customize the plot\n",
    "plt.xlabel('Genre')\n",
    "plt.ylabel('Vote Average')\n",
    "plt.title('Vote Average by Genre')\n",
    "plt.xticks(rotation=60)\n",
    "\n",
    "# Display the plot\n",
    "plt.show()"
   ]
  },
  {
   "cell_type": "code",
   "execution_count": null,
   "id": "de5c50ff",
   "metadata": {},
   "outputs": [],
   "source": [
    "x = df['Budget']\n",
    "y = df['Vote_Count']\n",
    "\n",
    "plt.scatter(x, y, alpha=0.5)\n",
    "plt.title('Vote Count vs. Budget')\n",
    "plt.xlabel('Budget (in billions)')\n",
    "plt.ylabel('Vote Count')\n",
    "plt.show()"
   ]
  },
  {
   "cell_type": "code",
   "execution_count": null,
   "id": "57d07034",
   "metadata": {},
   "outputs": [],
   "source": [
    "x = df['Revenue']\n",
    "y = df['Vote_Count']\n",
    "\n",
    "plt.scatter(x, y, alpha=0.5)\n",
    "plt.title('Vote Count vs. Revenue')\n",
    "plt.xlabel('Revenue')\n",
    "plt.ylabel('Vote Count')\n",
    "plt.show()"
   ]
  },
  {
   "cell_type": "code",
   "execution_count": null,
   "id": "6d75a7fc",
   "metadata": {},
   "outputs": [],
   "source": [
    "x = df['Vote_Average']\n",
    "y = df['Vote_Count']\n",
    "\n",
    "plt.scatter(x, y, alpha=0.5)\n",
    "plt.title('Vote Count vs. Vote Average')\n",
    "plt.xlabel('Vote Average')\n",
    "plt.ylabel('Vote Count')\n",
    "plt.show()"
   ]
  },
  {
   "cell_type": "code",
   "execution_count": null,
   "id": "d077ec5c",
   "metadata": {},
   "outputs": [],
   "source": [
    "x = df['Reviewer_Rating']\n",
    "y = df['Vote_Count']\n",
    "\n",
    "plt.scatter(x, y, alpha=0.5)\n",
    "plt.title('Vote Count vs. Reviewer Rating')\n",
    "plt.xlabel('Reviewer Rating')\n",
    "plt.ylabel('Vote Count')\n",
    "plt.show()"
   ]
  },
  {
   "cell_type": "code",
   "execution_count": null,
   "id": "44a5ba00",
   "metadata": {},
   "outputs": [],
   "source": [
    "# Convert the 'Month' column to a categorical data type\n",
    "month_order = ['January', 'February', 'March', 'April', 'May', 'June', 'July',\n",
    "               'August', 'September', 'October', 'November', 'December']\n",
    "cat_dtype = pd.api.types.CategoricalDtype(categories=month_order, ordered=True)\n",
    "df['Month'] = df['Month'].astype(cat_dtype)\n",
    "\n",
    "# Group the data by month and calculate the sum of the 'Vote Count' column\n",
    "monthly_vote_count = df.groupby('Month', observed=True)['Vote_Count'].sum().reset_index()\n",
    "\n",
    "# Create a bar chart of vote count by month\n",
    "plt.bar(monthly_vote_count['Month'], monthly_vote_count['Vote_Count'])\n",
    "\n",
    "# Customize the plot\n",
    "plt.xlabel('Month')\n",
    "plt.ylabel('Vote Count')\n",
    "plt.title('Vote Count by Month')\n",
    "plt.xticks(rotation=45)\n",
    "\n",
    "# Display the plot\n",
    "plt.show()\n"
   ]
  },
  {
   "cell_type": "code",
   "execution_count": null,
   "id": "2e42ab33",
   "metadata": {},
   "outputs": [],
   "source": [
    "# Group the data by genre and calculate the sum of the 'Vote Count' column\n",
    "genre_vote_count = df.groupby('Genre_1')['Vote_Count'].sum().reset_index()\n",
    "plt.figure(figsize=(10, 6))\n",
    "# Create a bar chart of vote count by genre\n",
    "plt.bar(genre_vote_count['Genre_1'], genre_vote_count['Vote_Count'])\n",
    "\n",
    "# Customize the plot\n",
    "plt.xlabel('Genre')\n",
    "plt.ylabel('Vote Count')\n",
    "plt.title('Vote Count by Genre')\n",
    "plt.xticks(rotation=90)\n",
    "\n",
    "# Display the plot\n",
    "plt.show()\n"
   ]
  },
  {
   "cell_type": "code",
   "execution_count": null,
   "id": "4ba61023",
   "metadata": {},
   "outputs": [],
   "source": [
    "df_cleaned = df[df['Release_Date'] != 'Not available']\n",
    "print(df_cleaned['Release_Date'].dtype)\n",
    "df_cleaned['Release_Month'] = pd.to_datetime(df_cleaned['Release_Date']).dt.month\n",
    "\n",
    "df_cleaned_rating = df_cleaned.dropna(subset=['Reviewer_Rating'])\n",
    "df_cleaned_month_rating = df_cleaned_rating.dropna(subset=['Release_Month'])\n",
    "\n",
    "# Group df_cleaned by month and get mean of Reviewer_Rating \n",
    "month_rating = df_cleaned_month_rating.groupby(['Release_Month'])['Reviewer_Rating'].mean()\n",
    "import calendar\n",
    "month_abbr = list(calendar.month_abbr)[1:] # Define a list of month abbreviations\n",
    "\n",
    "\n",
    "df_filtered = df_cleaned[df_cleaned['Reviewer_Rating'] > 0.6]\n",
    "count_by_month = df_filtered['Release_Month'].value_counts()\n",
    "count_by_month = count_by_month.sort_index()\n",
    "\n",
    "# Define month labels\n",
    "month_labels = ['Jan', 'Feb', 'Mar', 'Apr', 'May', 'Jun', \n",
    "                'Jul', 'Aug', 'Sep', 'Oct', 'Nov', 'Dec']\n",
    "\n",
    "plt.bar(month_labels, count_by_month)\n",
    "plt.title('Count of Movies with Reviewer_Rating > 0.6 by Release Month')\n",
    "plt.xlabel('Month')\n",
    "plt.ylabel('Count')\n",
    "plt.show()\n",
    "\n",
    "# September is traditionally known as the start of the \"fall movie season,\" where studios release \n",
    "# prestige films in the lead up to award season. This is because many of the high-profile film festivals \n",
    "# (Venice Film Festival and the Toronto International Film Festival) take place in September. As a result, \n",
    "# studios may choose to release their films in September in order to coincide with these festivals and \n",
    "# generate buzz and positive reviews for their films. Additionally, the period from September to December \n",
    "# leads up to the award season, during which studios release their most highly regarded and critically \n",
    "# acclaimed films in the hopes of receiving nominations and awards. This background information could \n",
    "# explain the higher count of reviewer_ratings above .6 from September to December. "
   ]
  },
  {
   "cell_type": "code",
   "execution_count": null,
   "id": "94929cd4",
   "metadata": {},
   "outputs": [],
   "source": [
    "# select only the numeric columns\n",
    "numeric_cols = df.select_dtypes(include=['int64', 'float64'])\n",
    "\n",
    "# compute the correlation matrix\n",
    "corr_matrix = numeric_cols.corr()\n",
    "\n",
    "print(corr_matrix)"
   ]
  },
  {
   "cell_type": "code",
   "execution_count": null,
   "id": "65b45250",
   "metadata": {},
   "outputs": [],
   "source": [
    "# Create a histogram of Revenue by Month\n",
    "df.groupby('Month', observed=True)['Revenue'].sum().plot(kind='bar', title='Revenue by Month', figsize=(8, 6))\n",
    "plt.xlabel('Month')\n",
    "plt.ylabel('Revenue')\n",
    "plt.show()"
   ]
  },
  {
   "cell_type": "code",
   "execution_count": null,
   "id": "13576b2b",
   "metadata": {},
   "outputs": [],
   "source": [
    "# Create a histogram of the 'Budget' column\n",
    "plt.figure(figsize=(8,6))\n",
    "plt.title('Histogram of Budget')\n",
    "plt.xlabel('Budget (in billions)')\n",
    "plt.ylabel('Frequency')\n",
    "plt.hist(df['Budget'], bins=20, edgecolor='black')\n",
    "\n",
    "plt.show()"
   ]
  },
  {
   "cell_type": "code",
   "execution_count": null,
   "id": "22d97079",
   "metadata": {},
   "outputs": [],
   "source": [
    "# Create a histogram of the 'Runtime' column\n",
    "plt.figure(figsize=(8,6))\n",
    "plt.title('Histogram of Runtime')\n",
    "plt.xlabel('Runtime (in minutes)')\n",
    "plt.ylabel('Frequency')\n",
    "plt.hist(df['Runtime'], bins=20, edgecolor='black')\n",
    "\n",
    "# Customize x-axis labels\n",
    "plt.xticks(rotation=45, ha='right')\n",
    "plt.ticklabel_format(style='plain', axis='x')\n",
    "\n",
    "plt.show()"
   ]
  },
  {
   "cell_type": "code",
   "execution_count": null,
   "id": "b7a51453",
   "metadata": {},
   "outputs": [],
   "source": [
    "# add markdown cell summarizing the findings from the EDA"
   ]
  }
 ],
 "metadata": {
  "kernelspec": {
   "display_name": "Python (.venv)",
   "language": "python",
   "name": ".venv"
  },
  "language_info": {
   "codemirror_mode": {
    "name": "ipython",
    "version": 3
   },
   "file_extension": ".py",
   "mimetype": "text/x-python",
   "name": "python",
   "nbconvert_exporter": "python",
   "pygments_lexer": "ipython3",
   "version": "3.12.10"
  }
 },
 "nbformat": 4,
 "nbformat_minor": 5
}
