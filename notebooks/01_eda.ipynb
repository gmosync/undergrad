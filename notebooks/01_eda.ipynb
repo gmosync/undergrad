{
 "cells": [
  {
   "cell_type": "code",
   "execution_count": 5,
   "id": "71381661",
   "metadata": {},
   "outputs": [],
   "source": [
    "# Packages required for exploratory data analysis: pandas, numpy, and matplotlib\n",
    "\n",
    "# Data manipulation\n",
    "import pandas as pd\n",
    "import numpy as np\n",
    "from scipy.stats import skew\n",
    "# Visualization\n",
    "import matplotlib.pyplot as plt\n",
    "from matplotlib.ticker import FuncFormatter\n",
    "import matplotlib.ticker as ticker"
   ]
  },
  {
   "cell_type": "code",
   "execution_count": null,
   "id": "37670129",
   "metadata": {},
   "outputs": [],
   "source": [
    "# READ IN CSV FILES AND MERGE\n",
    "movie_info = pd.read_csv('../data/raw/movie_info.csv', index_col=0)\n",
    "critic_reviews = pd.read_csv('../data/raw/CriticReviews_2018-2020.csv', index_col=0)\n",
    "# Merge the two dataframes on the 'review_object_title' column\n",
    "merged_df = pd.merge(movie_info, critic_reviews, on='review_object_title', how='outer', suffixes=('_movie', '_review'))\n",
    "\n",
    "merged_df.head(100)"
   ]
  },
  {
   "cell_type": "code",
   "execution_count": null,
   "id": "712e2415",
   "metadata": {},
   "outputs": [],
   "source": [
    "# RENAME MovieID and MovieTitle\n",
    "merged_df = merged_df.rename(columns={'Unnamed: 0': 'Movie_ID', 'review_object_title': 'Movie_Title'})\n",
    "\n",
    "# MOVIE ID\n",
    "# Reset the MovieID column to start at 1 for each unique MovieTitle\n",
    "merged_df['Movie_ID'] = merged_df.groupby('Movie_Title').ngroup() + 1\n",
    "\n",
    "# drop columns because we made our own index called MovieID\n",
    "merged_df.drop(['tmdbid'], axis=1, inplace=True)"
   ]
  },
  {
   "cell_type": "code",
   "execution_count": null,
   "id": "77d2ce29",
   "metadata": {},
   "outputs": [],
   "source": [
    "# create a column indicating how much of a row is missing\n",
    "# Create a boolean mask indicating which cells contain Not available, NaN, or the string 'Not available'\n",
    "na_mask = merged_df.isna() | merged_df.isin(['Not available'])\n",
    "\n",
    "# Count the number of cells in each row that contain Not available, NaN, or 'Not available'\n",
    "na_counts = na_mask.sum(axis=1)\n",
    "\n",
    "# Calculate the percentage of cells in each row that contain Not available, NaN, or 'Not available'\n",
    "na_percent = na_counts / len(merged_df.columns) * 100\n",
    "\n",
    "# Add the new column to the DataFrame\n",
    "merged_df['NA_Percent'] = na_percent\n",
    "#merged_df"
   ]
  },
  {
   "cell_type": "code",
   "execution_count": null,
   "id": "117748b2",
   "metadata": {},
   "outputs": [],
   "source": [
    "# Sort the DataFrame by NA_Percent in descending order\n",
    "merged_df.sort_values('NA_Percent', ascending=False)"
   ]
  },
  {
   "cell_type": "code",
   "execution_count": null,
   "id": "e0c0ea20",
   "metadata": {},
   "outputs": [],
   "source": [
    "# remove rows that have more than 50% Na values. These rows don't have enough information to use useful in a sentiment analysis. \n",
    "#Also, Not available of these columns contain the important review or reviewer rating necessary for the analysis. \n",
    "merged_df = merged_df[merged_df['NA_Percent'] <= 50]\n",
    "merged_df\n",
    "#319 rows have been removed."
   ]
  },
  {
   "cell_type": "code",
   "execution_count": null,
   "id": "d1955a47",
   "metadata": {},
   "outputs": [],
   "source": [
    "# drop the NA_Percent column\n",
    "merged_df = merged_df.drop('NA_Percent', axis=1)\n",
    "#merged_df\n",
    "\n",
    "# CHECK FOR NAs in columns \n",
    "# Calculate the percentage of NaN values for each column\n",
    "col_na_percentage = merged_df.isna().sum() / merged_df.shape[0] * 100\n",
    "# Add a new row at the top of the DataFrame with the column NaN percentages\n",
    "merged_df.loc[-1] = col_na_percentage.round(2)\n",
    "merged_df.index = merged_df.index + 1\n",
    "merged_df = merged_df.sort_index()\n",
    "merged_df.head(2)"
   ]
  },
  {
   "cell_type": "code",
   "execution_count": null,
   "id": "0d1193a9",
   "metadata": {},
   "outputs": [
    {
     "name": "stdout",
     "output_type": "stream",
     "text": [
      "Budget NA %: 8.31%\n",
      "Skew of budget: 2.73\n"
     ]
    }
   ],
   "source": [
    "# EDA — Budget\n",
    "\n",
    "# % missing\n",
    "budget_na_pct = merged_df['budget'].isna().mean() * 100\n",
    "print(f\"Budget NA %: {budget_na_pct:.2f}%\")\n",
    "\n",
    "# skew check\n",
    "budget_skew = skew(merged_df['budget'].dropna())\n",
    "print(f\"Skew of budget: {budget_skew:.2f}\")\n",
    "\n",
    "# EDA Conclusion:\n",
    "# Skew = 2.7 right-skewed - use median imputation"
   ]
  },
  {
   "cell_type": "code",
   "execution_count": null,
   "id": "cb968860",
   "metadata": {},
   "outputs": [
    {
     "name": "stdout",
     "output_type": "stream",
     "text": [
      "Runtime NA %: 8.43%\n",
      "Skew of runtime: 3.45\n"
     ]
    }
   ],
   "source": [
    "# EDA – Runtime\n",
    "\n",
    "# % missing\n",
    "runtime_na_pct = merged_df['runtime'].isna().mean() * 100\n",
    "print(f\"Runtime NA %: {runtime_na_pct:.2f}%\")\n",
    "\n",
    "# skew check\n",
    "runtime_skew = skew(merged_df['runtime'].dropna())\n",
    "print(f\"Skew of runtime: {runtime_skew:.2f}\")\n",
    "\n",
    "# EDA conclusion:\n",
    "# Skew = 3.45 right-skewed - use median imputation"
   ]
  },
  {
   "cell_type": "code",
   "execution_count": null,
   "id": "d4bb1505",
   "metadata": {},
   "outputs": [],
   "source": [
    "# EDA – Original Language\n",
    "\n",
    "# % missing\n",
    "lang_na_pct = merged_df['original_language'].isna().mean() * 100\n",
    "print(f\"Original Language NA %: {lang_na_pct:.2f}%\")\n",
    "\n",
    "# EDA conclusion:\n",
    "# ~8% missing - fill with 'Not available'\n",
    "# values are abbreviated - map to full language names"
   ]
  },
  {
   "cell_type": "code",
   "execution_count": null,
   "id": "ac9b59c5",
   "metadata": {},
   "outputs": [],
   "source": [
    "# EDA – Revenue\n",
    "\n",
    "# % missing\n",
    "revenue_na_pct = merged_df['tmdb_revenue'].isna().mean() * 100\n",
    "print(f\"Revenue NA %: {revenue_na_pct:.2f}%\")\n",
    "\n",
    "# skew check\n",
    "revenue_skew = skew(merged_df['tmdb_revenue'].dropna())\n",
    "print(f\"Skew of Revenue: {revenue_skew:.2f}\")\n",
    "\n",
    "# EDA conclusion:\n",
    "# ~8% missing or zero values\n",
    "# highly right-skewed (skew > 4.0) - use median imputation"
   ]
  },
  {
   "cell_type": "code",
   "execution_count": null,
   "id": "eaebb7a6",
   "metadata": {},
   "outputs": [],
   "source": [
    "# EDA – Release_Date\n",
    "\n",
    "# % missing\n",
    "release_na_pct = merged_df['release_date'].isna().mean() * 100\n",
    "print(f\"Release_Date NA %: {release_na_pct:.2f}%\")\n",
    "\n",
    "# EDA conclusion:\n",
    "# ~8% missing values\n",
    "# impute with 'Not available'"
   ]
  },
  {
   "cell_type": "code",
   "execution_count": null,
   "id": "cf968382",
   "metadata": {},
   "outputs": [],
   "source": [
    "# EDA – Popularity\n",
    "\n",
    "# % missing\n",
    "popularity_na_pct = merged_df['tmdb_popularity'].isna().mean() * 100\n",
    "print(f\"Popularity NA %: {popularity_na_pct:.2f}%\")\n",
    "\n",
    "# distribution shape\n",
    "popularity_skew = skew(merged_df['tmdb_popularity'].dropna())\n",
    "print(f\"Skewness: {popularity_skew:.2f}\")\n",
    "\n",
    "# EDA conclusion:\n",
    "# ~8% missing values\n",
    "# heavily skewed (~17) - use median imputation"
   ]
  },
  {
   "cell_type": "code",
   "execution_count": null,
   "id": "99561775",
   "metadata": {},
   "outputs": [],
   "source": [
    "# EDA – Vote_Average\n",
    "\n",
    "# % missing\n",
    "vote_avg_na_pct = merged_df['tmdb_vote_avg'].isna().mean() * 100\n",
    "print(f\"Vote_Average NA %: {vote_avg_na_pct:.2f}%\")\n",
    "\n",
    "# distribution shape\n",
    "vote_avg_skew = skew(merged_df['tmdb_vote_avg'].dropna())\n",
    "print(f\"Skewness: {vote_avg_skew:.2f}\")\n",
    "\n",
    "# EDA conclusion:\n",
    "# ~8% missing values\n",
    "# left-skewed (~ -2.79) - use median imputation"
   ]
  },
  {
   "cell_type": "code",
   "execution_count": null,
   "id": "2b86638a",
   "metadata": {},
   "outputs": [],
   "source": [
    "# EDA – Vote_Count\n",
    "\n",
    "# % missing\n",
    "vote_count_na_pct = merged_df['tmdb_vote_count'].isna().mean() * 100\n",
    "print(f\"Vote_Count NA %: {vote_count_na_pct:.2f}%\")\n",
    "\n",
    "# distribution shape\n",
    "vote_count_skew = skew(merged_df['tmdb_vote_count'].dropna())\n",
    "print(f\"Skewness: {vote_count_skew:.2f}\")\n",
    "\n",
    "# EDA conclusion:\n",
    "# ~8% missing values\n",
    "# right-skewed (~3.08) - use median imputation"
   ]
  },
  {
   "cell_type": "code",
   "execution_count": 7,
   "id": "95b9dd7f",
   "metadata": {},
   "outputs": [
    {
     "data": {
      "text/plain": [
       "np.int64(329)"
      ]
     },
     "execution_count": 7,
     "metadata": {},
     "output_type": "execute_result"
    }
   ],
   "source": [
    "# EDA - Review_ID\n",
    "\n",
    "# 0% missing\n",
    "merged_df['review_id'].isna().sum()\n"
   ]
  },
  {
   "cell_type": "code",
   "execution_count": null,
   "id": "6e1e6873",
   "metadata": {},
   "outputs": [],
   "source": [
    "# EDA - Critic_ID\n",
    "\n",
    "# 0% missing\n",
    "merged_df['critic_id'].isna().sum()"
   ]
  },
  {
   "cell_type": "code",
   "execution_count": 8,
   "id": "41ebc56a",
   "metadata": {},
   "outputs": [
    {
     "data": {
      "text/plain": [
       "np.int64(329)"
      ]
     },
     "execution_count": 8,
     "metadata": {},
     "output_type": "execute_result"
    }
   ],
   "source": [
    "# EDA - Created_Date\n",
    "\n",
    "# 0% missing\n",
    "merged_df['created_date'].isna().sum()"
   ]
  },
  {
   "cell_type": "code",
   "execution_count": null,
   "id": "ee972570",
   "metadata": {},
   "outputs": [],
   "source": [
    "# EDA - Pub_Date\n",
    "\n",
    "# 0% missing\n",
    "merged_df['pub_date'].isna().sum()"
   ]
  },
  {
   "cell_type": "code",
   "execution_count": null,
   "id": "7d9c60cd",
   "metadata": {},
   "outputs": [],
   "source": [
    "# CONTENT\n",
    "# 0.01% NA\n",
    "merged_df['content'].isna().mean()\n",
    "merged_df['content'].head(100)"
   ]
  },
  {
   "cell_type": "code",
   "execution_count": null,
   "id": "1652353d",
   "metadata": {},
   "outputs": [],
   "source": [
    "# PUBLISHER\n",
    "# 0% NA\n",
    "merged_df['publisher'].isna().mean()\n",
    "merged_df['publisher'].head(100)"
   ]
  },
  {
   "cell_type": "code",
   "execution_count": null,
   "id": "2af259ba",
   "metadata": {},
   "outputs": [],
   "source": [
    "# REVIEWER RATING ROTTEN\n",
    "# 0% NA\n",
    "# all values are TRUE, so drop\n",
    "merged_df['reviewer_rating_rotten'].value_counts()"
   ]
  },
  {
   "cell_type": "code",
   "execution_count": null,
   "id": "30b40f41",
   "metadata": {},
   "outputs": [],
   "source": [
    "# REVIEW SRC URL, REVIEW OBJECT TYPE, REVIEW OBJECT HREF\n",
    "# 0% NA\n",
    "# inspect these columns before deciding to drop\n",
    "merged_df[['review_src_url', 'review_object_type', 'review_object_href']].head(100)"
   ]
  },
  {
   "cell_type": "code",
   "execution_count": null,
   "id": "4c91d8be",
   "metadata": {},
   "outputs": [],
   "source": [
    "# PUBLICATION\n",
    "# 0% NA\n",
    "# inspect values before converting\n",
    "merged_df['publication'].head(100)"
   ]
  },
  {
   "cell_type": "code",
   "execution_count": null,
   "id": "def25c22",
   "metadata": {},
   "outputs": [],
   "source": [
    "# REVIEW OBJECT YEAR\n",
    "# 0% NA\n",
    "# inspect values before converting\n",
    "merged_df['review_object_year'].head(100)"
   ]
  },
  {
   "cell_type": "code",
   "execution_count": null,
   "id": "2e1a6891",
   "metadata": {},
   "outputs": [],
   "source": [
    "# CRITIC NAME\n",
    "# 0% NA\n",
    "# inspect values before converting\n",
    "merged_df['critic_name'].head(100)"
   ]
  },
  {
   "cell_type": "code",
   "execution_count": null,
   "id": "24429272",
   "metadata": {},
   "outputs": [],
   "source": [
    "# ROI\n",
    "# preview Budget and Revenue before calculating ROI\n",
    "merged_df[['Budget', 'Revenue']].describe()"
   ]
  },
  {
   "cell_type": "code",
   "execution_count": null,
   "id": "b6045b6b",
   "metadata": {},
   "outputs": [],
   "source": [
    "# MONTH\n",
    "# convert Release_Date to datetime\n",
    "merged_df['Release_Date'] = pd.to_datetime(merged_df['Release_Date'], errors='coerce')\n",
    "# preview converted dates\n",
    "merged_df['Release_Date'].head(100)"
   ]
  },
  {
   "cell_type": "code",
   "execution_count": null,
   "id": "2fbc1c3e",
   "metadata": {},
   "outputs": [],
   "source": []
  },
  {
   "cell_type": "code",
   "execution_count": null,
   "id": "6b101e8b",
   "metadata": {},
   "outputs": [],
   "source": []
  },
  {
   "cell_type": "code",
   "execution_count": null,
   "id": "54449272",
   "metadata": {},
   "outputs": [],
   "source": []
  },
  {
   "cell_type": "code",
   "execution_count": null,
   "id": "d4871716",
   "metadata": {},
   "outputs": [],
   "source": []
  },
  {
   "cell_type": "code",
   "execution_count": null,
   "id": "eca2e2b1",
   "metadata": {},
   "outputs": [],
   "source": []
  },
  {
   "cell_type": "code",
   "execution_count": null,
   "id": "b1be662c",
   "metadata": {},
   "outputs": [],
   "source": []
  },
  {
   "cell_type": "code",
   "execution_count": null,
   "id": "4e38d7ee",
   "metadata": {},
   "outputs": [],
   "source": []
  },
  {
   "cell_type": "code",
   "execution_count": null,
   "id": "57d07034",
   "metadata": {},
   "outputs": [],
   "source": []
  }
 ],
 "metadata": {
  "kernelspec": {
   "display_name": "Python (.venv)",
   "language": "python",
   "name": ".venv"
  },
  "language_info": {
   "codemirror_mode": {
    "name": "ipython",
    "version": 3
   },
   "file_extension": ".py",
   "mimetype": "text/x-python",
   "name": "python",
   "nbconvert_exporter": "python",
   "pygments_lexer": "ipython3",
   "version": "3.12.10"
  }
 },
 "nbformat": 4,
 "nbformat_minor": 5
}
